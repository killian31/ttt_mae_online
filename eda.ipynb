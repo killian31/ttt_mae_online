{
 "cells": [
  {
   "cell_type": "markdown",
   "metadata": {},
   "source": [
    "# TTT-MAE: Extension"
   ]
  },
  {
   "cell_type": "markdown",
   "metadata": {},
   "source": [
    "## Visualize the dataset"
   ]
  },
  {
   "cell_type": "markdown",
   "metadata": {},
   "source": [
    "/!\\ Attention ils testent que sur le niveau 5 du dataset. 1 corruption = 1 classe $\\implies$ 15 classes.\n",
    "\n",
    "Voir [ce fichier](https://github.com/hendrycks/robustness/blob/master/ImageNet-C/create_c/make_imagenet_c.py) pour créer les dataloaders etc"
   ]
  },
  {
   "cell_type": "markdown",
   "metadata": {},
   "source": []
  }
 ],
 "metadata": {
  "kernelspec": {
   "display_name": "ttt",
   "language": "python",
   "name": "python3"
  },
  "language_info": {
   "name": "python",
   "version": "3.12.2"
  }
 },
 "nbformat": 4,
 "nbformat_minor": 2
}
